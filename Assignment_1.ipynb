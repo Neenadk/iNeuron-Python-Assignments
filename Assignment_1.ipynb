{
 "cells": [
  {
   "cell_type": "markdown",
   "metadata": {},
   "source": [
    "# Assignment_1"
   ]
  },
  {
   "cell_type": "markdown",
   "metadata": {},
   "source": [
    "# 1.In the below elements which of them are values or an expression? eg:- values can be integer or string and expressions will be mathematical operators.\n",
    "1)*\n",
    "2)'hello'\n",
    "3)-87.8\n",
    "4)-\n",
    "5)/\n",
    "6)+\n",
    "7)6\n",
    "\n",
    "**Ans:-**\n",
    "\n",
    "operators are symbols used in mathematical expression,values that an operators acts on are called operands,sequence of oprand and operators is called as expression, e.g. a+b-5\n",
    "\n",
    "1) *\n",
    "- It is a operater used in expression\n",
    "\n",
    "2) 'hello'\n",
    "- It is a value\n",
    "\n",
    "3) -87.8\n",
    "- It is a value\n",
    "\n",
    "4) -\n",
    "- It is a operator used in expression\n",
    "\n",
    "5) /\n",
    "- It is a operator used in expression\n",
    "\n",
    "6) +\n",
    "- It is a operator used in expression\n",
    "\n",
    "7) 6\n",
    "- It is a value\n",
    "\n",
    "\n"
   ]
  },
  {
   "cell_type": "markdown",
   "metadata": {},
   "source": [
    "# 2. What is the difference between string and variable?\n",
    "\n",
    "**Ans:-**\n",
    "\n",
    "**Variable**\n",
    "- Variable in python is reserved memory location to store value, variable gives data to computer for processing\n",
    "\n",
    "**string**\n",
    "- String is a data type in python"
   ]
  },
  {
   "cell_type": "markdown",
   "metadata": {},
   "source": [
    "# 3. Describe three different data types.\n",
    "\n",
    "**Ans:-**\n",
    "\n",
    "**Integers(int)***\n",
    "- Integers are whole numbers, e.g. 3,56,\n",
    "\n",
    "**Floating point(float)***\n",
    "- These are numbers with decemil points, e.g. 23.56\n",
    "\n",
    "**Booleans(bool)***\n",
    "- logical values indicating True or False"
   ]
  },
  {
   "cell_type": "markdown",
   "metadata": {},
   "source": [
    "# 4. What is an expression made up of? What do all expressions do?\n",
    "\n",
    "**Ans:-**\n",
    "- Expression is made up of operator and operands\n",
    "- Operators are symbols used in expression\n",
    "- Operands are values on which operator acts on\n",
    "- Expression performs mathematical operations, it evaluates a value"
   ]
  },
  {
   "cell_type": "markdown",
   "metadata": {},
   "source": [
    "# 5. This assignment statements, like spam = 10. What is the difference between an expression and a statement?\n",
    "\n",
    "**Ans:-**\n",
    "\n",
    "- Expression consist of operator and operand, it evaluates a value\n",
    "- Statement represent action or command, e.g. print statement, assignment statement "
   ]
  },
  {
   "cell_type": "markdown",
   "metadata": {},
   "source": [
    "# 6. After running the following code, what does the variable bacon contain?bacon = 22 , bacon + 1\n",
    "\n",
    "**Ans:-**\n",
    "\n",
    "- After running above mentioned code, bacon variable will contain initially assigned integer value 22"
   ]
  },
  {
   "cell_type": "markdown",
   "metadata": {},
   "source": [
    "# 7. What should the values of the following two terms be?'spam' + 'spamspam' , 'spam' * 3\n",
    "\n",
    "**Ans:-**\n",
    "\n",
    "- Value of above both expressions will be same string 'spamspamspam'"
   ]
  },
  {
   "cell_type": "markdown",
   "metadata": {},
   "source": [
    "# 8. Why is eggs a valid variable name while 100 is invalid?\n",
    "\n",
    "**Ans:-**\n",
    "\n",
    "- Python follows som naming rules for variables, according to that number can be used in variable name but not at beginning, variable name should start with letter or underscore(_), so 100 is invalid as variable name"
   ]
  },
  {
   "cell_type": "markdown",
   "metadata": {},
   "source": [
    "# 9. What three functions can be used to get the integer, floating-point number, or string version of a value?\n",
    "\n",
    "**Ans:-**\n",
    "\n",
    "**integer**\n",
    "- function int() can be used to get integer of a value\n",
    "  e.g. a = 34.5\n",
    "       int(a)\n",
    "  above function will return integer 34 as value\n",
    "  \n",
    "**floating-point**\n",
    "- function float() can be used to get floating point number of a value\n",
    "  e.g. a = 35\n",
    "       float(a)\n",
    "  above function will return floating point number 35.0 as value\n",
    "  \n",
    "**string**\n",
    "- function str() can be used to get string\n",
    "  e.g. a = 45\n",
    "       str(a)\n",
    "  above function will return string as '45'"
   ]
  },
  {
   "cell_type": "markdown",
   "metadata": {},
   "source": [
    "# 10. Why does this expression cause an error? How can you fix it?'I have eaten ' + 99 + ' burritos.'\n",
    "\n",
    "**Ans:-**\n",
    "\n",
    "- Concatenate operation can be perform only on homogeneous data types\n",
    "- in above example 99 is integer and remaining two were string data types, so expression cause an error\n",
    "- can convert 99 in to float and concatenate operation will return single string\n",
    "     e.g. 'I have eaten' + ' ' + str(99) + ' ' + 'burritos'\n",
    "     it will result in 'I have eaten 99 burritos'"
   ]
  }
 ],
 "metadata": {
  "kernelspec": {
   "display_name": "Python 3",
   "language": "python",
   "name": "python3"
  },
  "language_info": {
   "codemirror_mode": {
    "name": "ipython",
    "version": 3
   },
   "file_extension": ".py",
   "mimetype": "text/x-python",
   "name": "python",
   "nbconvert_exporter": "python",
   "pygments_lexer": "ipython3",
   "version": "3.8.3"
  }
 },
 "nbformat": 4,
 "nbformat_minor": 4
}
