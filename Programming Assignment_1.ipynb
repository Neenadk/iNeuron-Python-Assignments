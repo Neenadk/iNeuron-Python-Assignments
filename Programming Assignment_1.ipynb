{
 "cells": [
  {
   "cell_type": "markdown",
   "metadata": {},
   "source": [
    "# 1.\tWrite a Python program to print \"Hello Python\"?"
   ]
  },
  {
   "cell_type": "code",
   "execution_count": null,
   "metadata": {},
   "outputs": [],
   "source": [
    "print(\"Hello python\")"
   ]
  },
  {
   "cell_type": "markdown",
   "metadata": {},
   "source": [
    "# 2.\tWrite a Python program to do arithmetical operations addition and division.?"
   ]
  },
  {
   "cell_type": "code",
   "execution_count": 87,
   "metadata": {},
   "outputs": [],
   "source": [
    "def arithmetic_operations(a,b,operation='add'):\n",
    "    '''\n",
    "perform arithmetic operation on a and b\n",
    "\n",
    "operation-\n",
    "\n",
    "'add' will perfoem addition operation\n",
    "\n",
    "'divide' will perform division operation. \n",
    "\n",
    "    '''\n",
    "    if operation == 'add':\n",
    "        ans = a + b\n",
    "        return \"assition od a and b ia {}\".format(ans)\n",
    "    if operation == 'divide':\n",
    "        ans = a/b\n",
    "        return \"division of a and b is {}\".format(ans)\n",
    "    else:\n",
    "        print('enter operation')"
   ]
  },
  {
   "cell_type": "markdown",
   "metadata": {},
   "source": [
    "# 3.\tWrite a Python program to find the area of a triangle?"
   ]
  },
  {
   "cell_type": "code",
   "execution_count": 92,
   "metadata": {},
   "outputs": [],
   "source": [
    "def triangle_area(base,height):\n",
    "    area = (1/2)*base*height\n",
    "    return \"area of triangle is {}\".format(area)"
   ]
  },
  {
   "cell_type": "markdown",
   "metadata": {},
   "source": [
    "# 4.\tWrite a Python program to swap two variables?"
   ]
  },
  {
   "cell_type": "code",
   "execution_count": 94,
   "metadata": {},
   "outputs": [],
   "source": [
    "def swap_no(a,b):\n",
    "    a,b = b,a\n",
    "    return a,b"
   ]
  },
  {
   "cell_type": "markdown",
   "metadata": {},
   "source": [
    "# 5.\tWrite a Python program to generate a random number?"
   ]
  },
  {
   "cell_type": "code",
   "execution_count": 115,
   "metadata": {},
   "outputs": [],
   "source": [
    "import numpy as np\n",
    "def rand_no(low,high):\n",
    "    '''\n",
    "return random integer between low to high\n",
    "    \n",
    "    '''\n",
    "    return np.random.randint(low,high)"
   ]
  }
 ],
 "metadata": {
  "kernelspec": {
   "display_name": "Python 3",
   "language": "python",
   "name": "python3"
  },
  "language_info": {
   "codemirror_mode": {
    "name": "ipython",
    "version": 3
   },
   "file_extension": ".py",
   "mimetype": "text/x-python",
   "name": "python",
   "nbconvert_exporter": "python",
   "pygments_lexer": "ipython3",
   "version": "3.8.3"
  }
 },
 "nbformat": 4,
 "nbformat_minor": 4
}
