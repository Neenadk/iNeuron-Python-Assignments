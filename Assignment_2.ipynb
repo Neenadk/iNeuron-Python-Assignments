{
 "cells": [
  {
   "cell_type": "markdown",
   "metadata": {},
   "source": [
    "# Assignment_2"
   ]
  },
  {
   "cell_type": "markdown",
   "metadata": {},
   "source": [
    "# 1.What are the two values of the Boolean data type? How do you write them?\n",
    "\n",
    "**Ans:-**\n",
    "- true and false are the two values of Boolean data type.\n",
    "- We write them as True & False, first letter should be always capital."
   ]
  },
  {
   "cell_type": "markdown",
   "metadata": {},
   "source": [
    "# 2. What are the three different types of Boolean operators?\n",
    "\n",
    "**Ans:-**\n",
    "\n",
    "Following are three types of Boolean operators\n",
    "1. not\n",
    "2. and\n",
    "3. or"
   ]
  },
  {
   "cell_type": "markdown",
   "metadata": {},
   "source": [
    "# 3. Make a list of each Boolean operator's truth tables (i.e. every possible combination of Boolean values for the operator and what it evaluate ).\n",
    "\n",
    "**Ans:-**\n",
    "\n",
    "**and**\n",
    "- True and True = True\n",
    "- True and False = False\n",
    "- False and True = False\n",
    "- False and False = False\n",
    "\n",
    "**or**\n",
    "- True or True = True\n",
    "- True or False = True\n",
    "- False or True = True\n",
    "- False or False = False\n",
    "\n",
    "**not**\n",
    "- not True = False\n",
    "- not False = True"
   ]
  },
  {
   "cell_type": "markdown",
   "metadata": {},
   "source": [
    "# 4. What are the values of the following expressions?\n",
    "- (5 > 4) and (3 == 5)\n",
    "- not (5 > 4)\n",
    "- (5 > 4) or (3 == 5)\n",
    "- not ((5 > 4) or (3 == 5))\n",
    "- (True and True) and (True == False)\n",
    "- (not False) or (not True)\n",
    "\n",
    "**Ans:-**\n",
    "\n",
    "- (5 > 4) and (3 == 5) will be False\n",
    "- not (5 > 4) will be False\n",
    "- (5 > 4) or (3 == 5) will be True\n",
    "- not ((5 > 4) or (3 == 5)) will be False\n",
    "- (True and True) and (True == False) will be False\n",
    "- (not False) or (not True) will be True\n",
    "\n"
   ]
  },
  {
   "cell_type": "markdown",
   "metadata": {},
   "source": [
    "# 5. What are the six comparison operators?\n",
    "\n",
    "**Ans:-**\n",
    "\n",
    "- equal to ==\n",
    "- not equal to !=\n",
    "- gretar than >\n",
    "- less than <\n",
    "- gretar than or equal to >=\n",
    "- less than or equal to <="
   ]
  },
  {
   "cell_type": "code",
   "execution_count": null,
   "metadata": {},
   "outputs": [],
   "source": [
    "# 6. How do you tell the difference between the equal to and assignment operators?Describe a condition and when you would use one.\n",
    "\n",
    "'''Ans:-\n",
    "\n",
    "**Assignment**\n",
    "- assignment operator use to assign value to a variable\n",
    "- e.g. x = y+z, a += b\n",
    "\n",
    "**Equal to**\n",
    "- equal to operator returns True if both operands have same otherwise it returns False\n",
    "'''\n",
    "a = 10\n",
    "b = 12\n",
    "if (a == b):\n",
    "    print('a is equal to b')\n",
    "else:\n",
    "    print('a is not equal to b')"
   ]
  },
  {
   "cell_type": "code",
   "execution_count": null,
   "metadata": {},
   "outputs": [],
   "source": [
    "# 7. Identify the three blocks in this code:\n",
    "\n",
    "#Ans:-\n",
    "\n",
    "spam = 0\n",
    "if spam == 10:\n",
    "    print('eggs')\n",
    "if spam > 5:\n",
    "    print('bacon')\n",
    "else:\n",
    "    print('ham')\n",
    "    print('spam')\n",
    "    print('spam')"
   ]
  },
  {
   "cell_type": "code",
   "execution_count": null,
   "metadata": {},
   "outputs": [],
   "source": [
    "# 8. Write code that prints Hello if 1 is stored in spam, prints Howdy if 2 is stored in spam, and prints Greetings! if anything else is stored in spam.\n",
    "\n",
    "#Ans:-\n",
    "\n",
    "spam = int(input('enter value'))\n",
    "if spam == 1:\n",
    "    print('Hello')\n",
    "elif spam == 2:\n",
    "    print('Howdy')\n",
    "else:\n",
    "    print('Greetings!')"
   ]
  },
  {
   "cell_type": "markdown",
   "metadata": {},
   "source": [
    "# 9.If your programme is stuck in an endless loop, what keys you’ll press?\n",
    "\n",
    "**Ans:-**\n",
    "- press ctrl+c to stop execution of infinite loop"
   ]
  },
  {
   "cell_type": "markdown",
   "metadata": {},
   "source": [
    "# 10. How can you tell the difference between break and continue?\n",
    "\n",
    "**Ans:-**\n",
    "\n",
    "- break statement will terminate execution of current loop and pass control to next loop or main body.\n",
    "- continue skip the current iteration and executes very next iteration"
   ]
  },
  {
   "cell_type": "markdown",
   "metadata": {},
   "source": [
    "# 11. In a for loop, what is the difference between range(10), range(0, 10), and range(0, 10, 1)?\n",
    "\n",
    "\n",
    "**Ans:-**\n",
    "\n",
    "- range function returns sequence of number, syntax of function is range(start,stop,step)\n",
    "- start parameter is optional, it is integer number specifying at which position to start, default is 0\n",
    "- stop parameter is required, it is integer number specifying at which position to stop(not included)\n",
    "- step parameter is optional, it specify the increment, default is 1\n",
    "- range function mentioned in question will all return sequence of number from 0 till 9\n",
    "- in range(10) stop parameter is mentioned, start and step are default 0 and 1 respectively\n",
    "- in range(0,10) start and stop parameter is mentioned as 0 and 10 respectively, step is default 1\n",
    "- in range(0,10,1) all parameters mentioned, start 0 stop 10 and step 1"
   ]
  },
  {
   "cell_type": "code",
   "execution_count": 32,
   "metadata": {},
   "outputs": [],
   "source": [
    "# 12. Write a short program that prints the numbers 1 to 10 using a for loop. Then write an equivalent program that prints the numbers 1 to 10 using a while loop.\n",
    "\n",
    "#Ans:-\n",
    "\n",
    "\n",
    "def for_loop(a=range(1,11)):\n",
    "    for i in a:\n",
    "        print(i)\n",
    "\n",
    "\n",
    "def while_loop():\n",
    "    count = 1\n",
    "    while (count <= 10):\n",
    "        print(count)\n",
    "        count += 1"
   ]
  },
  {
   "cell_type": "markdown",
   "metadata": {},
   "source": [
    "# 13. If you had a function named bacon() inside a module named spam, how would you call it after importing spam?\n",
    "\n",
    "**Ans:-**\n",
    "\n",
    "- spam.bacon()"
   ]
  }
 ],
 "metadata": {
  "kernelspec": {
   "display_name": "Python 3",
   "language": "python",
   "name": "python3"
  },
  "language_info": {
   "codemirror_mode": {
    "name": "ipython",
    "version": 3
   },
   "file_extension": ".py",
   "mimetype": "text/x-python",
   "name": "python",
   "nbconvert_exporter": "python",
   "pygments_lexer": "ipython3",
   "version": "3.8.3"
  }
 },
 "nbformat": 4,
 "nbformat_minor": 4
}
