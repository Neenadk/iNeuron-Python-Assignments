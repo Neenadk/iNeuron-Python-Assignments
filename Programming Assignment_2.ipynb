{
 "cells": [
  {
   "cell_type": "markdown",
   "metadata": {},
   "source": [
    "# 1.\tWrite a Python program to convert kilometers to miles?"
   ]
  },
  {
   "cell_type": "code",
   "execution_count": 24,
   "metadata": {},
   "outputs": [],
   "source": [
    "def km_mile_converter(km):\n",
    "    '''\n",
    "    return mile equivalent of km\n",
    "    \n",
    "    '''\n",
    "    return '{} kilometer equals to'.format(km)+\" \"+str(km * 0.621)+\" \"+'miles'"
   ]
  },
  {
   "cell_type": "markdown",
   "metadata": {},
   "source": [
    "# 2.\tWrite a Python program to convert Celsius to Fahrenheit?"
   ]
  },
  {
   "cell_type": "code",
   "execution_count": 26,
   "metadata": {},
   "outputs": [],
   "source": [
    "def celsius_fahr_converter(temp):\n",
    "    '''\n",
    "    return fahrenheit equivalent of temp\n",
    "    '''\n",
    "    return '{} celsius equals to'.format(temp)+\" \"+str(temp * 33.8)+\" \"+'fahrenheit'"
   ]
  },
  {
   "cell_type": "markdown",
   "metadata": {},
   "source": [
    "# 3.\tWrite a Python program to display calendar?"
   ]
  },
  {
   "cell_type": "code",
   "execution_count": 39,
   "metadata": {},
   "outputs": [],
   "source": [
    "import calendar\n",
    "def cal(yy,mo):\n",
    "    '''\n",
    "    returns calender\n",
    "    yy = year\n",
    "    mo = month\n",
    "    '''\n",
    "    print(calendar.month(yy,mo))"
   ]
  },
  {
   "cell_type": "markdown",
   "metadata": {},
   "source": [
    "# 4.\tWrite a Python program to solve quadratic equation?"
   ]
  },
  {
   "cell_type": "code",
   "execution_count": 40,
   "metadata": {},
   "outputs": [],
   "source": [
    "def quad_sol(a,b,c):\n",
    "    '''\n",
    "    returns solution of quadratic equation ax2+bx+c=0\n",
    "    a,b,c are known numbers\n",
    "    \n",
    "    '''\n",
    "    sol_1 = (-b + ((b**2)-(4*a*c))**-2)/(2*a)\n",
    "    sol_2 = (-b - ((b**2)-(4*a*c))**-2)/(2*a)\n",
    "    return 'solutions for quadratic equations are {d} and {e}'.format(d=sol_1,e=sol_2)"
   ]
  },
  {
   "cell_type": "markdown",
   "metadata": {},
   "source": [
    "# 5.\tWrite a Python program to swap two variables without temp variable?"
   ]
  },
  {
   "cell_type": "code",
   "execution_count": 43,
   "metadata": {},
   "outputs": [
    {
     "name": "stdout",
     "output_type": "stream",
     "text": [
      "enter value of variable a - 2\n",
      "enter value of variable b -3\n",
      "value of variable a is 3 and value of variable b is 2\n"
     ]
    }
   ],
   "source": [
    "a = int(input('enter value of variable a - '))\n",
    "b = int(input('enter value of variable b -'))\n",
    "a,b = b,a\n",
    "print('value of variable a is {c} and value of variable b is {d}'.format(c=a,d=b))"
   ]
  },
  {
   "cell_type": "code",
   "execution_count": null,
   "metadata": {},
   "outputs": [],
   "source": []
  }
 ],
 "metadata": {
  "kernelspec": {
   "display_name": "Python 3",
   "language": "python",
   "name": "python3"
  },
  "language_info": {
   "codemirror_mode": {
    "name": "ipython",
    "version": 3
   },
   "file_extension": ".py",
   "mimetype": "text/x-python",
   "name": "python",
   "nbconvert_exporter": "python",
   "pygments_lexer": "ipython3",
   "version": "3.8.3"
  }
 },
 "nbformat": 4,
 "nbformat_minor": 4
}
